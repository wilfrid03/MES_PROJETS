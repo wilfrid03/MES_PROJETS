{
 "cells": [
  {
   "cell_type": "markdown",
   "id": "b100111b",
   "metadata": {},
   "source": [
    "# Analyse de l'accessibilité piétonnière avec Python\n",
    "\n",
    "Nous allons reproduire les [analyses de l'article de Gispo Ltd](https://gispofinland.medium.com/analysing-urban-walkability-using-openstreetmap-and-python-33815d045204). Cet article traite de l'évaluation de l'accessibilité piétionnière dans la ville. Il met à disposition son code dans [ce repo Github](https://github.com/eemilhaa/walkability-analysis). Il prend l'exemple de la Finlande, mais nous allons prendre un exemple en France, la ville de Lyon. L'idée est d'utiliser des outils et données libres, afin de réaliser une analyse en deux partie :\n",
    "\n",
    "- la mesure de l'accessibilité globale via la densité d'intersection,\n",
    "- la mesure de l'accessibilité des équipements au sein d'une ville.\n",
    "\n",
    "Le sujet de l'accessibilité piétonne est associé à d'autres thématiques :\n",
    "- présence d'espace vert,\n",
    "- qualité de l'air,\n",
    "- pollution par voiture etc.\n",
    "\n",
    "## 1/ Cadre théorique\n",
    "\n",
    "### 1.1/ La densité des intersections\n",
    "\n",
    "La densité d'intersection est un indicateur sur l'interconnexion du réseau. Une [corrélation positive entre la densité d'intersection et l'usage de la marche comme principal mode de transport a été démontrée dans cet article](https://www.tandfonline.com/doi/abs/10.1080/01944361003766766). Ce qui renforce l'intérêt de cet indicateur dans la compréhension de l'accessibilité de l'espace urbain.\n",
    "\n",
    "**Remarque**: au cours de son explication, l'analyste indique avoir réalisé des traitements \"grossièrement\", sans tenir compte de chaque spécificité. Par exemple, quand eux rues fusionnent en une à des points différents, cela peut représenter deux intersections. Ce qui revient à sur-évaluer le nombre d'intersection sur cette rue fusionnée. On peut donc dire qu'il s'agit surtout de donner une idée globale, d'une situation, sans aller trop dans le détail, afin de trouver le juste milieu entre qualité et rapidité.\n",
    "\n"
   ]
  },
  {
   "cell_type": "code",
   "execution_count": null,
   "id": "6ec87a93",
   "metadata": {},
   "outputs": [],
   "source": [
    "## import des modules"
   ]
  },
  {
   "cell_type": "code",
   "execution_count": null,
   "id": "f201ec89",
   "metadata": {},
   "outputs": [],
   "source": []
  },
  {
   "cell_type": "code",
   "execution_count": null,
   "id": "bdb2d939",
   "metadata": {},
   "outputs": [],
   "source": []
  },
  {
   "cell_type": "code",
   "execution_count": null,
   "id": "ea54549e",
   "metadata": {},
   "outputs": [],
   "source": []
  },
  {
   "cell_type": "code",
   "execution_count": null,
   "id": "062ebcf5",
   "metadata": {},
   "outputs": [],
   "source": []
  },
  {
   "cell_type": "code",
   "execution_count": null,
   "id": "974f0ac4",
   "metadata": {},
   "outputs": [],
   "source": []
  },
  {
   "cell_type": "code",
   "execution_count": null,
   "id": "1f35666d",
   "metadata": {},
   "outputs": [],
   "source": []
  },
  {
   "cell_type": "code",
   "execution_count": null,
   "id": "2b1865eb",
   "metadata": {},
   "outputs": [],
   "source": []
  }
 ],
 "metadata": {
  "kernelspec": {
   "display_name": "Python 3 (ipykernel)",
   "language": "python",
   "name": "python3"
  },
  "language_info": {
   "codemirror_mode": {
    "name": "ipython",
    "version": 3
   },
   "file_extension": ".py",
   "mimetype": "text/x-python",
   "name": "python",
   "nbconvert_exporter": "python",
   "pygments_lexer": "ipython3",
   "version": "3.10.11"
  }
 },
 "nbformat": 4,
 "nbformat_minor": 5
}

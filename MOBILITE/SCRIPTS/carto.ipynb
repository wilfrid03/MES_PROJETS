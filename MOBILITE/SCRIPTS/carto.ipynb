{
 "cells": [
  {
   "cell_type": "markdown",
   "metadata": {},
   "source": [
    "<h1 style=\"text-align:center; color:black; text-decoration:underline red;\">Cartographie interactive des résultats</h1>"
   ]
  },
  {
   "cell_type": "code",
   "execution_count": null,
   "metadata": {},
   "outputs": [],
   "source": [
    "import pandas\n",
    "pandas.set_option(\"display.max_rows\", None)\n",
    "pandas.set_option(\"display.max_columns\", None)\n",
    "import os\n",
    "os.environ[\"USE_PYGEOS\"] = \"0\"\n",
    "import geopandas\n",
    "import folium"
   ]
  },
  {
   "cell_type": "markdown",
   "metadata": {},
   "source": [
    "Ce notebook a pour but de présenter les résultats de la préparation de données, sous forme de carte interactive folium. Un premier résultat est proposé grâce au logiciel QGIS :\n",
    "<br/>\n",
    "<img width=800px height=auto src=\"..\\\\RESULTATS\\\\carto.png\"/>\n",
    "\n",
    "Bien que la carte puisse informer, on peut suggérer une carte interactive :\n",
    "- Pour afficher les données exactes,\n",
    "- Ajouter plus de couches, pour pouvoir mieux contextualiser les arrêts de bus,\n",
    "- Ajouter des info-bulles pour avoir plus d'information sur la commune,\n",
    "- Obtenir plus de contexte géographique, notamment avec un fond de carte tel qu'ESRI Satellite, par exemple."
   ]
  },
  {
   "cell_type": "code",
   "execution_count": null,
   "metadata": {},
   "outputs": [],
   "source": [
    "# Ouvrir les données, et les reprojeter en degré pour Folium.\n",
    "contours_vdo = geopandas.read_file(filename=r\"..\\TRAITEMENT\\communes_valdoise_2022.geojson\",\n",
    "                                   dtype={\"contours_vdo\":str})\n",
    "contours_vdo.to_crs(4326, inplace=True)\n",
    "\n",
    "arrets_bus = geopandas.read_file(filename=r\"..\\TRAITEMENT\\arrets_bus_vdo.geojson\")\n",
    "arrets_bus.to_crs(4326, inplace=True)\n",
    "\n",
    "pop_21 = pandas.read_csv(r\"..\\TRAITEMENT\\population_2021.csv\", \n",
    "                         dtype={\"COM\":str},\n",
    "                         sep=\",\", decimal=\".\", encoding=\"utf-8\")\n",
    "pop_21.head()"
   ]
  },
  {
   "cell_type": "code",
   "execution_count": null,
   "metadata": {},
   "outputs": [],
   "source": [
    "# Compter le nombre d'arrêt de bus dans les communes #\n",
    "\n",
    "pop_21.head() #Champ de jointure identifié : COM\n",
    "contours_vdo.head() #Champ de jointure identifié : insee\n",
    "\n",
    "contours_vdo[\"NB_BUS\"] = 0\n",
    "\n",
    "for i, r in contours_vdo.iterrows() :\n",
    "    com = r[\"geometry\"]\n",
    "\n",
    "    for j, k in arrets_bus.iterrows() :\n",
    "\n",
    "        if arrets_bus.loc[j, \"geometry\"].within(other=com) == True :\n",
    "            contours_vdo.loc[i, \"NB_BUS\"] = contours_vdo.loc[i, \"NB_BUS\"] + 1\n",
    "        else : \n",
    "            pass\n",
    "\n",
    "# Faire la jointure #\n",
    "\n",
    "contours_vdo = pandas.merge(left=contours_vdo, right=pop_21, left_on=\"insee\", right_on=\"COM\", how=\"left\", validate=\"1:1\")\n",
    "contours_vdo[\"PART_POP_VDO\"] = contours_vdo[\"PTOT\"].apply(func= lambda x : ( (x / contours_vdo[\"PTOT\"].sum()) * 100))\n",
    "contours_vdo.head()\n"
   ]
  },
  {
   "cell_type": "code",
   "execution_count": null,
   "metadata": {},
   "outputs": [],
   "source": [
    "bus_vdo = contours_vdo.copy(deep=True)\n",
    "bus_vdo.to_crs(3857, inplace=True)\n",
    "bus_vdo[\"geometry\"] = bus_vdo[\"geometry\"].centroid\n",
    "bus_vdo.to_crs(4326, inplace=True)\n",
    "\n",
    "bus_vdo.head()"
   ]
  },
  {
   "cell_type": "code",
   "execution_count": null,
   "metadata": {},
   "outputs": [],
   "source": [
    "#Centre de la carte. Nous travaillons sur l'IDF et précisément sur le Val d'Oise.\n",
    "#Nous allons donc centrer la carte sur le Val d'Oise.\n",
    "\n",
    "#On commence par dissoudre les communes du même département.\n",
    "diss = contours_vdo.dissolve(by=\"numdep\")\n",
    "\n",
    "m = folium.Map(\n",
    "    location = (diss.centroid.y, diss.centroid.x),\n",
    "    zoom_start = 10,\n",
    "    min_zoom = 10,\n",
    "    control_scale = True, #Ajouter une échelle.\n",
    ")\n",
    "\n",
    "folium.GeoJson(\n",
    "    data = contours_vdo,\n",
    "    name = \"Bordure commune\",\n",
    "    style_function = lambda feature : {\n",
    "        \"fillColor\" : \"#00000000\",\n",
    "        \"color\" : \"black\",\n",
    "        \"weight\" : 2\n",
    "    }\n",
    "    ).add_to(m)\n",
    "\n",
    "contours_vdo.explore(\n",
    "    m = m,\n",
    "    column = \"PART_POP_VDO\",\n",
    "    scheme = \"naturalbreaks\",\n",
    "    cmap = \"Reds\",\n",
    "    color = \"black\",\n",
    "    legend = True,\n",
    "    tooltip = False,\n",
    "    popup = [\"nomcom\", \"PART_POP_VDO\"],\n",
    "    name = \"Part de la population communale dans la population départementale\")\n",
    "\n",
    "contours_vdo.explore(\n",
    "    m = m,\n",
    "    column = \"aire\",\n",
    "    scheme = \"naturalbreaks\",\n",
    "    cmap = \"Blues\",\n",
    "    legend = True,\n",
    "    tooltip = False,\n",
    "    popup = [\"nomcom\", \"aire\"],\n",
    "    name = \"Surface de la commune en m2\")\n",
    "\n",
    "for i, r in bus_vdo[ [\"nomcom\", \"NB_BUS\", \"geometry\"] ].iterrows() :\n",
    "\n",
    "    folium.Circle(\n",
    "            location = [ r[\"geometry\"].y, r[\"geometry\"].x ],\n",
    "            popup = '%s (%.1f)' % (r[\"nomcom\"], r[\"NB_BUS\"]),\n",
    "            radius = r[\"NB_BUS\"] * 10,\n",
    "            color='crimson',\n",
    "            fill=True,\n",
    "            fill_color='crimson',\n",
    "            name = \"Nombre d'arrêt de bus unique\"\n",
    "        ).add_to(m)\n",
    "    \n",
    "folium.TileLayer(\"https://server.arcgisonline.com/ArcGIS/rest/services/World_Imagery/MapServer/tile/{z}/{y}/{x}\",\n",
    "                 attr = \"Tiles &copy; Esri &mdash; Source: Esri, i-cubed, USDA, USGS, AEX, GeoEye, Getmapping, Aerogrid, IGN, IGP, UPR-EGP, and the GIS User Community\",\n",
    "                 name = \"ESRI Satellite\"\n",
    "                 ).add_to(m)\n",
    "\n",
    "folium.LayerControl().add_to(m)\n",
    "\n",
    "\n",
    "m.save(outfile = r\"..\\RESULTATS\\carte_interactive_resultat.html\")\n",
    "\n",
    "m #Afficher la carte\n"
   ]
  },
  {
   "cell_type": "code",
   "execution_count": null,
   "metadata": {},
   "outputs": [],
   "source": []
  }
 ],
 "metadata": {
  "kernelspec": {
   "display_name": "analyse_spatiale_py2",
   "language": "python",
   "name": "python3"
  },
  "language_info": {
   "codemirror_mode": {
    "name": "ipython",
    "version": 3
   },
   "file_extension": ".py",
   "mimetype": "text/x-python",
   "name": "python",
   "nbconvert_exporter": "python",
   "pygments_lexer": "ipython3",
   "version": "3.10.11"
  }
 },
 "nbformat": 4,
 "nbformat_minor": 2
}

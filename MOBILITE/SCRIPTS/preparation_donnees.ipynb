{
 "cells": [
  {
   "cell_type": "markdown",
   "metadata": {},
   "source": [
    "<h1 style=\"text-align:center; color:black; text-decoration:underline;\">Préparation des données pour le projet de cartographie des données validations sur les lignes</h1>"
   ]
  },
  {
   "cell_type": "markdown",
   "metadata": {},
   "source": [
    "<h2 style=\"text-decoration:bold; color:black;\">Source de données</h2>\n",
    "<ul>\n",
    "    <a href=\"https://data.iledefrance-mobilites.fr/explore/dataset/arrets/export/\"><li>Référentiel des arrêts de bud IDFM</li></a>\n",
    "    <a href=\"https://data.iledefrance.fr/explore/dataset/geoflar-departements/information/\"><li>Contour des départements, GEOFLA</li></a>\n",
    "    <a href=\"https://www.insee.fr/fr/statistiques/7739582?sommaire=7728826#consulter\"><li>Population légale 2021</li></a>\n",
    "</ul>\n",
    "\n",
    "<h2 style=\"text-decoration:bold; color:black;\">Notebook</h2>"
   ]
  },
  {
   "cell_type": "code",
   "execution_count": null,
   "metadata": {},
   "outputs": [],
   "source": [
    "import pandas \n",
    "import os \n",
    "os.environ[\"USE_PYGEOS\"] = \"0\"\n",
    "import geopandas"
   ]
  },
  {
   "cell_type": "code",
   "execution_count": null,
   "metadata": {},
   "outputs": [],
   "source": [
    "##### PREPARATION DES DONNEES DES COMMUNES #####\n",
    "com = geopandas.read_file(r\"..\\DONNEES\\communes_idf_2022.shp\", encoding=\"utf-8\")\n",
    "print(com.crs) #Vérifier la projection.\n",
    "com.to_crs(epsg=\"3949\", inplace=True) #Convertir en mètre.\n",
    "print(com.crs) #Vérifier la projection.\n",
    "\n",
    "com.info()\n",
    "\n",
    "valdoise = com[ com[\"numdep\"] == \"95\" ]\n",
    "valdoise.drop(labels=[\"shape_leng\", \"fusioinsee\", \"st_areasha\", \"st_lengths\", \"nomcomto\"], axis=1, inplace=True)\n",
    "valdoise.reset_index(drop=True, inplace=True)\n",
    "valdoise.head()\n",
    "\n",
    "save = False \n",
    "\n",
    "if save == True :\n",
    "    valdoise.to_file(filename=r\"..\\TRAITEMENT\\communes_valdoise_2022.geojson\", driver=\"GeoJSON\")\n"
   ]
  },
  {
   "cell_type": "code",
   "execution_count": null,
   "metadata": {},
   "outputs": [],
   "source": [
    "##### PREPARATION DES DONNEES D'ARRETS #####\n",
    "\n",
    "arrets = geopandas.read_file(filename=r\"..\\DONNEES\\arrets.geojson\", geometry=\"geometry\", encoding=\"utf-8\")\n",
    "#Changer la projection si nécessaire \n",
    "def convert_crs(gdf, crs=\"3949\") :\n",
    "    if gdf.crs != crs :\n",
    "        print(gdf.crs)\n",
    "        gdf.to_crs(epsg=crs, inplace=True)\n",
    "        print(gdf.crs)\n",
    "    else :\n",
    "        print(gdf.crs)\n",
    "\n",
    "    return gdf\n",
    "\n",
    "arrets = convert_crs(arrets)\n",
    "\n",
    "#Récupérer les arrêts dans le Val d'Oise \n",
    "arrets_vdo = geopandas.sjoin(left_df=arrets, right_df=valdoise, predicate=\"within\")\n",
    "#arrets_vdo.explore() #Vérifier le résultat.\n",
    "\n",
    "#Conserver uniquement les colonnes qui nous intéressent :\n",
    "print(arrets_vdo.columns)\n",
    "arrets_vdo.drop(labels=['arrcreated', 'arrchanged', 'arrtown',\n",
    "                        'arrpostalregion', 'arraccessibility', 'arraudiblesignals',\n",
    "                        'arrvisualsigns', 'arrfarezone', 'index_right'], \n",
    "                        axis=1, inplace=True)\n",
    "\n",
    "arrets_vdo = arrets_vdo[ arrets_vdo[\"arrtype\"] == \"bus\" ]\n",
    "arrets_vdo.drop_duplicates(subset=\"zdaid\", inplace=True)\n",
    "\n",
    "arrets_vdo.to_file(filename=r\"..\\TRAITEMENT\\arrets_bus_vdo.geojson\", driver=\"GeoJSON\", encoding=\"utf-8\")"
   ]
  },
  {
   "cell_type": "code",
   "execution_count": null,
   "metadata": {},
   "outputs": [],
   "source": [
    "##### PREPARER LES DONNEES DEMOGRAPHIQUES #####\n",
    "\n",
    "pop21 = pandas.read_csv(r\"..\\DONNEES\\donnees_communes.csv\", sep=\";\", decimal=\",\", encoding=\"utf-8\")\n",
    "\n",
    "pop_vdo = pop21[ pop21[\"DEP\"] == \"95\" ]\n",
    "pop_vdo.reset_index(drop=True, inplace=True)\n",
    "\n",
    "def To_String(r) :\n",
    "    res = r[\"COM\"]\n",
    "    res = str(res)\n",
    "\n",
    "    return res\n",
    "\n",
    "pop_vdo[\"COM\"] = pop_vdo.apply(func=To_String, axis=1)\n",
    "\n",
    "pop_vdo.to_csv(r\"..\\TRAITEMENT\\population_2021.csv\", \n",
    "               sep=\",\", decimal=\".\", encoding=\"utf-8\")\n",
    "\n",
    "pop_vdo.info()"
   ]
  },
  {
   "cell_type": "code",
   "execution_count": null,
   "metadata": {},
   "outputs": [],
   "source": []
  }
 ],
 "metadata": {
  "kernelspec": {
   "display_name": "analyse_spatiale_py2",
   "language": "python",
   "name": "python3"
  },
  "language_info": {
   "codemirror_mode": {
    "name": "ipython",
    "version": 3
   },
   "file_extension": ".py",
   "mimetype": "text/x-python",
   "name": "python",
   "nbconvert_exporter": "python",
   "pygments_lexer": "ipython3",
   "version": "3.10.11"
  }
 },
 "nbformat": 4,
 "nbformat_minor": 2
}

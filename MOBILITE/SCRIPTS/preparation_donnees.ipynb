{
 "cells": [
  {
   "cell_type": "markdown",
   "metadata": {},
   "source": [
    "<h1 style=\"text-align:center; color:black; text-decoration:underline red;\">Préparation des données pour le projet de cartographie des données validations sur les lignes</h1>"
   ]
  },
  {
   "cell_type": "markdown",
   "metadata": {},
   "source": [
    "<h2 style=\"text-decoration:bold; color:black;\">Source de données</h2>\n",
    "<ul>\n",
    "    <a href=\"https://data.iledefrance-mobilites.fr/explore/dataset/arrets/export/\"><li>Référentiel des arrêts de bus IDFM</li></a>\n",
    "    <a href=\"https://data.iledefrance.fr/explore/dataset/geoflar-departements/information/\"><li>Contour des départements, GEOFLA</li></a>\n",
    "    <a href=\"https://www.insee.fr/fr/statistiques/7739582?sommaire=7728826#consulter\"><li>Population légale 2021</li></a>\n",
    "</ul>\n",
    "\n",
    "<h2 style=\"text-decoration:bold; color:black;\">Notebook</h2>"
   ]
  },
  {
   "cell_type": "code",
   "execution_count": 1,
   "metadata": {},
   "outputs": [],
   "source": [
    "import pandas \n",
    "import os \n",
    "os.environ[\"USE_PYGEOS\"] = \"0\"\n",
    "import geopandas"
   ]
  },
  {
   "cell_type": "code",
   "execution_count": 2,
   "metadata": {},
   "outputs": [
    {
     "name": "stdout",
     "output_type": "stream",
     "text": [
      "EPSG:4326\n",
      "EPSG:3949\n",
      "<class 'geopandas.geodataframe.GeoDataFrame'>\n",
      "RangeIndex: 1287 entries, 0 to 1286\n",
      "Data columns (total 10 columns):\n",
      " #   Column      Non-Null Count  Dtype   \n",
      "---  ------      --------------  -----   \n",
      " 0   objectid    1287 non-null   object  \n",
      " 1   shape_leng  1287 non-null   float64 \n",
      " 2   insee       1287 non-null   object  \n",
      " 3   nomcom      1287 non-null   object  \n",
      " 4   numdep      1287 non-null   object  \n",
      " 5   fusioinsee  10 non-null     object  \n",
      " 6   nomcomto    1287 non-null   object  \n",
      " 7   st_areasha  1287 non-null   float64 \n",
      " 8   st_lengths  1287 non-null   float64 \n",
      " 9   geometry    1287 non-null   geometry\n",
      "dtypes: float64(3), geometry(1), object(6)\n",
      "memory usage: 100.7+ KB\n"
     ]
    },
    {
     "name": "stderr",
     "output_type": "stream",
     "text": [
      "C:\\Users\\will\\AppData\\Local\\Temp\\ipykernel_1088\\3196411111.py:10: SettingWithCopyWarning: \n",
      "A value is trying to be set on a copy of a slice from a DataFrame\n",
      "\n",
      "See the caveats in the documentation: https://pandas.pydata.org/pandas-docs/stable/user_guide/indexing.html#returning-a-view-versus-a-copy\n",
      "  valdoise.drop(labels=[\"shape_leng\", \"fusioinsee\", \"st_areasha\", \"st_lengths\", \"nomcomto\"], axis=1, inplace=True)\n"
     ]
    },
    {
     "data": {
      "text/html": [
       "<div>\n",
       "<style scoped>\n",
       "    .dataframe tbody tr th:only-of-type {\n",
       "        vertical-align: middle;\n",
       "    }\n",
       "\n",
       "    .dataframe tbody tr th {\n",
       "        vertical-align: top;\n",
       "    }\n",
       "\n",
       "    .dataframe thead th {\n",
       "        text-align: right;\n",
       "    }\n",
       "</style>\n",
       "<table border=\"1\" class=\"dataframe\">\n",
       "  <thead>\n",
       "    <tr style=\"text-align: right;\">\n",
       "      <th></th>\n",
       "      <th>objectid</th>\n",
       "      <th>insee</th>\n",
       "      <th>nomcom</th>\n",
       "      <th>numdep</th>\n",
       "      <th>geometry</th>\n",
       "    </tr>\n",
       "  </thead>\n",
       "  <tbody>\n",
       "    <tr>\n",
       "      <th>0</th>\n",
       "      <td>73</td>\n",
       "      <td>95541</td>\n",
       "      <td>Saint-Clair-sur-Epte</td>\n",
       "      <td>95</td>\n",
       "      <td>POLYGON ((1603180.203 8220962.671, 1603103.898...</td>\n",
       "    </tr>\n",
       "    <tr>\n",
       "      <th>1</th>\n",
       "      <td>78</td>\n",
       "      <td>95203</td>\n",
       "      <td>Eaubonne</td>\n",
       "      <td>95</td>\n",
       "      <td>POLYGON ((1648164.534 8197599.814, 1646846.649...</td>\n",
       "    </tr>\n",
       "    <tr>\n",
       "      <th>2</th>\n",
       "      <td>86</td>\n",
       "      <td>95539</td>\n",
       "      <td>Saint-Brice-sous-Forêt</td>\n",
       "      <td>95</td>\n",
       "      <td>POLYGON ((1653580.606 8198952.869, 1653307.558...</td>\n",
       "    </tr>\n",
       "    <tr>\n",
       "      <th>3</th>\n",
       "      <td>249</td>\n",
       "      <td>95054</td>\n",
       "      <td>Le Bellay-en-Vexin</td>\n",
       "      <td>95</td>\n",
       "      <td>POLYGON ((1618447.886 8215925.229, 1617885.132...</td>\n",
       "    </tr>\n",
       "    <tr>\n",
       "      <th>4</th>\n",
       "      <td>277</td>\n",
       "      <td>95348</td>\n",
       "      <td>Longuesse</td>\n",
       "      <td>95</td>\n",
       "      <td>POLYGON ((1620622.799 8205664.615, 1620220.985...</td>\n",
       "    </tr>\n",
       "  </tbody>\n",
       "</table>\n",
       "</div>"
      ],
      "text/plain": [
       "  objectid  insee                  nomcom numdep  \\\n",
       "0       73  95541    Saint-Clair-sur-Epte     95   \n",
       "1       78  95203                Eaubonne     95   \n",
       "2       86  95539  Saint-Brice-sous-Forêt     95   \n",
       "3      249  95054      Le Bellay-en-Vexin     95   \n",
       "4      277  95348               Longuesse     95   \n",
       "\n",
       "                                            geometry  \n",
       "0  POLYGON ((1603180.203 8220962.671, 1603103.898...  \n",
       "1  POLYGON ((1648164.534 8197599.814, 1646846.649...  \n",
       "2  POLYGON ((1653580.606 8198952.869, 1653307.558...  \n",
       "3  POLYGON ((1618447.886 8215925.229, 1617885.132...  \n",
       "4  POLYGON ((1620622.799 8205664.615, 1620220.985...  "
      ]
     },
     "execution_count": 2,
     "metadata": {},
     "output_type": "execute_result"
    }
   ],
   "source": [
    "##### PREPARATION DES DONNEES DES COMMUNES #####\n",
    "com = geopandas.read_file(r\"..\\DONNEES\\communes_idf_2022.shp\", encoding=\"utf-8\")\n",
    "print(com.crs) #Vérifier la projection.\n",
    "com.to_crs(epsg=\"3949\", inplace=True) #Convertir en mètre.\n",
    "print(com.crs) #Vérifier la projection.\n",
    "\n",
    "com.info()\n",
    "\n",
    "valdoise = com[ com[\"numdep\"] == \"95\" ]\n",
    "valdoise.drop(labels=[\"shape_leng\", \"fusioinsee\", \"st_areasha\", \"st_lengths\", \"nomcomto\"], axis=1, inplace=True)\n",
    "valdoise.reset_index(drop=True, inplace=True)\n",
    "\n",
    "save = False \n",
    "\n",
    "if save == True :\n",
    "    valdoise.to_file(filename=r\"..\\TRAITEMENT\\communes_valdoise_2022.geojson\", driver=\"GeoJSON\")\n",
    "\n",
    "valdoise.head()"
   ]
  },
  {
   "cell_type": "code",
   "execution_count": 3,
   "metadata": {},
   "outputs": [
    {
     "name": "stderr",
     "output_type": "stream",
     "text": [
      "C:\\Users\\will\\AppData\\Roaming\\Python\\Python310\\site-packages\\geopandas\\io\\file.py:399: FutureWarning: In a future version of pandas, parsing datetimes with mixed time zones will raise an error unless `utc=True`. Please specify `utc=True` to opt in to the new behaviour and silence this warning. To create a `Series` with mixed offsets and `object` dtype, please use `apply` and `datetime.datetime.strptime`\n",
      "  as_dt = pd.to_datetime(df[k], errors=\"ignore\")\n",
      "C:\\Users\\will\\AppData\\Roaming\\Python\\Python310\\site-packages\\geopandas\\io\\file.py:399: FutureWarning: In a future version of pandas, parsing datetimes with mixed time zones will raise an error unless `utc=True`. Please specify `utc=True` to opt in to the new behaviour and silence this warning. To create a `Series` with mixed offsets and `object` dtype, please use `apply` and `datetime.datetime.strptime`\n",
      "  as_dt = pd.to_datetime(df[k], errors=\"ignore\")\n"
     ]
    },
    {
     "name": "stdout",
     "output_type": "stream",
     "text": [
      "EPSG:4326\n",
      "EPSG:3949\n",
      "Index(['arrid', 'arrversion', 'arrcreated', 'arrchanged', 'arrname', 'arrtype',\n",
      "       'arrpubliccode', 'arrxepsg2154', 'arryepsg2154', 'zdaid', 'arrtown',\n",
      "       'arrpostalregion', 'arraccessibility', 'arraudiblesignals',\n",
      "       'arrvisualsigns', 'arrfarezone', 'geometry', 'index_right', 'objectid',\n",
      "       'insee', 'nomcom', 'numdep'],\n",
      "      dtype='object')\n"
     ]
    }
   ],
   "source": [
    "##### PREPARATION DES DONNEES D'ARRETS #####\n",
    "\n",
    "#Objectif : obtenir tous les arrêts dans les communes du Val d'Oise.\n",
    "\n",
    "arrets = geopandas.read_file(filename=r\"..\\DONNEES\\arrets.geojson\", geometry=\"geometry\", encoding=\"utf-8\")\n",
    "#Changer la projection si nécessaire \n",
    "def convert_crs(gdf, crs=\"3949\") :\n",
    "    if gdf.crs != crs :\n",
    "        print(gdf.crs)\n",
    "        gdf.to_crs(epsg=crs, inplace=True)\n",
    "        print(gdf.crs)\n",
    "    else :\n",
    "        print(gdf.crs)\n",
    "\n",
    "    return gdf\n",
    "\n",
    "arrets = convert_crs(arrets)\n",
    "\n",
    "#Récupérer les arrêts dans le Val d'Oise \n",
    "arrets_vdo = geopandas.sjoin(left_df=arrets, right_df=valdoise, predicate=\"within\")\n",
    "#arrets_vdo.explore() #Vérifier le résultat.\n",
    "\n",
    "#Conserver uniquement les colonnes qui nous intéressent :\n",
    "print(arrets_vdo.columns)\n",
    "arrets_vdo.drop(labels=['arrcreated', 'arrchanged', 'arrtown',\n",
    "                        'arrpostalregion', 'arraccessibility', 'arraudiblesignals',\n",
    "                        'arrvisualsigns', 'arrfarezone', 'index_right'], \n",
    "                        axis=1, inplace=True)\n",
    "\n",
    "arrets_vdo = arrets_vdo[ arrets_vdo[\"arrtype\"] == \"bus\" ]\n",
    "arrets_vdo.drop_duplicates(subset=\"zdaid\", inplace=True) #Supprimer les doublons des arrêts.\n",
    "#Rappel : Les arrêts de bus fonctionnent au minimum par pair.\n",
    "#Si on conserve tous les arrêts de bus : les plus nombreux seront sur-évalués.\n",
    "\n",
    "arrets_vdo.head()\n",
    "\n",
    "if save == True :\n",
    "    arrets_vdo.to_file(filename=r\"..\\TRAITEMENT\\arrets_bus_vdo.geojson\", driver=\"GeoJSON\", encoding=\"utf-8\")"
   ]
  },
  {
   "cell_type": "code",
   "execution_count": 5,
   "metadata": {},
   "outputs": [
    {
     "name": "stdout",
     "output_type": "stream",
     "text": [
      "<class 'pandas.core.frame.DataFrame'>\n",
      "RangeIndex: 184 entries, 0 to 183\n",
      "Data columns (total 11 columns):\n",
      " #   Column   Non-Null Count  Dtype \n",
      "---  ------   --------------  ----- \n",
      " 0   REG      184 non-null    int64 \n",
      " 1   Région   184 non-null    object\n",
      " 2   DEP      184 non-null    object\n",
      " 3   CODARR   184 non-null    int64 \n",
      " 4   CODCAN   184 non-null    object\n",
      " 5   CODCOM   184 non-null    int64 \n",
      " 6   COM      184 non-null    object\n",
      " 7   Commune  184 non-null    object\n",
      " 8   PMUN     184 non-null    int64 \n",
      " 9   PCAP     184 non-null    int64 \n",
      " 10  PTOT     184 non-null    int64 \n",
      "dtypes: int64(6), object(5)\n",
      "memory usage: 15.9+ KB\n"
     ]
    },
    {
     "name": "stderr",
     "output_type": "stream",
     "text": [
      "C:\\Users\\will\\AppData\\Local\\Temp\\ipykernel_1088\\373795713.py:8: SettingWithCopyWarning: \n",
      "A value is trying to be set on a copy of a slice from a DataFrame.\n",
      "Try using .loc[row_indexer,col_indexer] = value instead\n",
      "\n",
      "See the caveats in the documentation: https://pandas.pydata.org/pandas-docs/stable/user_guide/indexing.html#returning-a-view-versus-a-copy\n",
      "  pop_vdo[\"COM\"] = pop_vdo[\"COM\"].apply(func=lambda x : str(x))\n"
     ]
    }
   ],
   "source": [
    "##### PREPARER LES DONNEES DEMOGRAPHIQUES #####\n",
    "\n",
    "pop21 = pandas.read_csv(r\"..\\DONNEES\\donnees_communes.csv\", sep=\";\", decimal=\",\", encoding=\"utf-8\")\n",
    "\n",
    "pop_vdo = pop21[ pop21[\"DEP\"] == \"95\" ]\n",
    "pop_vdo.reset_index(drop=True, inplace=True)\n",
    "\n",
    "pop_vdo[\"COM\"] = pop_vdo[\"COM\"].apply(func=lambda x : str(x))\n",
    "\n",
    "if save == True :\n",
    "    pop_vdo.to_csv(r\"..\\TRAITEMENT\\population_2021.csv\", \n",
    "               sep=\",\", decimal=\".\", encoding=\"utf-8\")\n",
    "\n",
    "pop_vdo.info()"
   ]
  },
  {
   "cell_type": "code",
   "execution_count": null,
   "metadata": {},
   "outputs": [],
   "source": []
  }
 ],
 "metadata": {
  "kernelspec": {
   "display_name": "analyse_spatiale_py2",
   "language": "python",
   "name": "python3"
  },
  "language_info": {
   "codemirror_mode": {
    "name": "ipython",
    "version": 3
   },
   "file_extension": ".py",
   "mimetype": "text/x-python",
   "name": "python",
   "nbconvert_exporter": "python",
   "pygments_lexer": "ipython3",
   "version": "3.10.11"
  }
 },
 "nbformat": 4,
 "nbformat_minor": 2
}

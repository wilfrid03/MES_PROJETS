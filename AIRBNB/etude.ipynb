{
 "cells": [
  {
   "cell_type": "markdown",
   "metadata": {},
   "source": [
    "# Etude de la localisation des Airbnb à Lyon\n",
    "\n",
    "## Objectifs :\n",
    "\n",
    "- Choisir une ou plusieurs études déjà réalisées sur les Airbnb, pour la reproduire ici.\n",
    "- Réaliser des éléments (cartes, graphiques).\n",
    "- Publier."
   ]
  }
 ],
 "metadata": {
  "kernelspec": {
   "display_name": "analyse_spatiale_py2",
   "language": "python",
   "name": "python3"
  },
  "language_info": {
   "name": "python",
   "version": "3.10.11"
  },
  "orig_nbformat": 4
 },
 "nbformat": 4,
 "nbformat_minor": 2
}

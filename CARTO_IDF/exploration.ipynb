{
 "cells": [
  {
   "cell_type": "markdown",
   "metadata": {},
   "source": [
    "# Exploration des données"
   ]
  },
  {
   "cell_type": "code",
   "execution_count": 1,
   "metadata": {},
   "outputs": [],
   "source": [
    "import pandas\n",
    "import os \n",
    "os.environ[\"USE_PYGEOS\"] = \"0\"\n",
    "import geopandas"
   ]
  },
  {
   "cell_type": "code",
   "execution_count": 2,
   "metadata": {},
   "outputs": [
    {
     "name": "stdout",
     "output_type": "stream",
     "text": [
      "EPSG:2154\n"
     ]
    },
    {
     "data": {
      "text/html": [
       "<div>\n",
       "<style scoped>\n",
       "    .dataframe tbody tr th:only-of-type {\n",
       "        vertical-align: middle;\n",
       "    }\n",
       "\n",
       "    .dataframe tbody tr th {\n",
       "        vertical-align: top;\n",
       "    }\n",
       "\n",
       "    .dataframe thead th {\n",
       "        text-align: right;\n",
       "    }\n",
       "</style>\n",
       "<table border=\"1\" class=\"dataframe\">\n",
       "  <thead>\n",
       "    <tr style=\"text-align: right;\">\n",
       "      <th></th>\n",
       "      <th>objectid</th>\n",
       "      <th>insee</th>\n",
       "      <th>nomcom</th>\n",
       "      <th>numdep</th>\n",
       "      <th>nomcomto</th>\n",
       "      <th>st_areashape</th>\n",
       "      <th>geometry</th>\n",
       "    </tr>\n",
       "  </thead>\n",
       "  <tbody>\n",
       "    <tr>\n",
       "      <th>0</th>\n",
       "      <td>1</td>\n",
       "      <td>95355</td>\n",
       "      <td>Magny-en-Vexin</td>\n",
       "      <td>95</td>\n",
       "      <td>Magny-en-Vexin</td>\n",
       "      <td>14849035.0</td>\n",
       "      <td>POLYGON ((615063.000 6894023.000, 615406.000 6...</td>\n",
       "    </tr>\n",
       "    <tr>\n",
       "      <th>1</th>\n",
       "      <td>2</td>\n",
       "      <td>78307</td>\n",
       "      <td>Hermeray</td>\n",
       "      <td>78</td>\n",
       "      <td>Hermeray</td>\n",
       "      <td>19012569.5</td>\n",
       "      <td>POLYGON ((604915.000 6837749.000, 605196.000 6...</td>\n",
       "    </tr>\n",
       "    <tr>\n",
       "      <th>2</th>\n",
       "      <td>3</td>\n",
       "      <td>77283</td>\n",
       "      <td>May-en-Multien</td>\n",
       "      <td>77</td>\n",
       "      <td>May-en-Multien</td>\n",
       "      <td>19054117.0</td>\n",
       "      <td>POLYGON ((702802.000 6882878.000, 704373.000 6...</td>\n",
       "    </tr>\n",
       "    <tr>\n",
       "      <th>3</th>\n",
       "      <td>4</td>\n",
       "      <td>75112</td>\n",
       "      <td>Paris 12e  Arrondissement</td>\n",
       "      <td>75</td>\n",
       "      <td>Paris 12ème</td>\n",
       "      <td>16185164.5</td>\n",
       "      <td>POLYGON ((660441.000 6857722.000, 660778.000 6...</td>\n",
       "    </tr>\n",
       "    <tr>\n",
       "      <th>4</th>\n",
       "      <td>5</td>\n",
       "      <td>78263</td>\n",
       "      <td>Gambais</td>\n",
       "      <td>78</td>\n",
       "      <td>Gambais</td>\n",
       "      <td>23102702.0</td>\n",
       "      <td>POLYGON ((606461.000 6854759.000, 606191.000 6...</td>\n",
       "    </tr>\n",
       "  </tbody>\n",
       "</table>\n",
       "</div>"
      ],
      "text/plain": [
       "   objectid  insee                     nomcom  numdep        nomcomto  \\\n",
       "0         1  95355             Magny-en-Vexin      95  Magny-en-Vexin   \n",
       "1         2  78307                   Hermeray      78        Hermeray   \n",
       "2         3  77283             May-en-Multien      77  May-en-Multien   \n",
       "3         4  75112  Paris 12e  Arrondissement      75     Paris 12ème   \n",
       "4         5  78263                    Gambais      78         Gambais   \n",
       "\n",
       "   st_areashape                                           geometry  \n",
       "0    14849035.0  POLYGON ((615063.000 6894023.000, 615406.000 6...  \n",
       "1    19012569.5  POLYGON ((604915.000 6837749.000, 605196.000 6...  \n",
       "2    19054117.0  POLYGON ((702802.000 6882878.000, 704373.000 6...  \n",
       "3    16185164.5  POLYGON ((660441.000 6857722.000, 660778.000 6...  \n",
       "4    23102702.0  POLYGON ((606461.000 6854759.000, 606191.000 6...  "
      ]
     },
     "execution_count": 2,
     "metadata": {},
     "output_type": "execute_result"
    }
   ],
   "source": [
    "com = geopandas.read_file(r\".\\DONNEES\\communes_idf.geojson\")\n",
    "#reprojeter\n",
    "com.to_crs(epsg=\"2154\", inplace=True)\n",
    "print(com.crs)\n",
    "\n",
    "#Nettoyer\n",
    "com.drop(labels=[\"shape_leng\", \"fusioinsee\", \"st_lengthshape\"], axis=1, inplace=True)\n",
    "\n",
    "com.to_file(filename=r\".\\TRAITEMENT\\communes_idf.geojson\", driver=\"GeoJSON\")\n",
    "com.head()"
   ]
  },
  {
   "cell_type": "code",
   "execution_count": null,
   "metadata": {},
   "outputs": [],
   "source": [
    "ilots = geopandas.read_file(r\".\\DONNEES\\ilots_morpho_idf.geojson\")\n",
    "#reprojeter\n",
    "ilots.to_crs(epsg=\"2154\", inplace=True)\n",
    "print(ilots.crs)\n",
    "\n",
    "#Nettoyer\n",
    "\n",
    "ilots.to_file(filename=r\".\\TRAITEMENT\\ilots_morpho_idf.geojson\", driver=\"GeoJSON\")\n",
    "ilots.head()"
   ]
  },
  {
   "cell_type": "code",
   "execution_count": 4,
   "metadata": {},
   "outputs": [
    {
     "data": {
      "text/html": [
       "<div>\n",
       "<style scoped>\n",
       "    .dataframe tbody tr th:only-of-type {\n",
       "        vertical-align: middle;\n",
       "    }\n",
       "\n",
       "    .dataframe tbody tr th {\n",
       "        vertical-align: top;\n",
       "    }\n",
       "\n",
       "    .dataframe thead th {\n",
       "        text-align: right;\n",
       "    }\n",
       "</style>\n",
       "<table border=\"1\" class=\"dataframe\">\n",
       "  <thead>\n",
       "    <tr style=\"text-align: right;\">\n",
       "      <th></th>\n",
       "      <th>objectid</th>\n",
       "      <th>insee</th>\n",
       "      <th>mos2021_11</th>\n",
       "      <th>st_areashape</th>\n",
       "      <th>st_lengthshape</th>\n",
       "      <th>geometry</th>\n",
       "    </tr>\n",
       "  </thead>\n",
       "  <tbody>\n",
       "    <tr>\n",
       "      <th>0</th>\n",
       "      <td>1</td>\n",
       "      <td>75101</td>\n",
       "      <td>4</td>\n",
       "      <td>9796.522263</td>\n",
       "      <td>811.974311</td>\n",
       "      <td>POLYGON ((2.34301 48.85502, 2.34282 48.85520, ...</td>\n",
       "    </tr>\n",
       "    <tr>\n",
       "      <th>1</th>\n",
       "      <td>2</td>\n",
       "      <td>75101</td>\n",
       "      <td>4</td>\n",
       "      <td>34857.018040</td>\n",
       "      <td>905.749225</td>\n",
       "      <td>POLYGON ((2.34653 48.85673, 2.34673 48.85705, ...</td>\n",
       "    </tr>\n",
       "    <tr>\n",
       "      <th>2</th>\n",
       "      <td>3</td>\n",
       "      <td>75101</td>\n",
       "      <td>4</td>\n",
       "      <td>37939.056394</td>\n",
       "      <td>1135.670515</td>\n",
       "      <td>POLYGON ((2.34169 48.85782, 2.34210 48.85829, ...</td>\n",
       "    </tr>\n",
       "    <tr>\n",
       "      <th>3</th>\n",
       "      <td>4</td>\n",
       "      <td>75101</td>\n",
       "      <td>4</td>\n",
       "      <td>19941.426792</td>\n",
       "      <td>778.363200</td>\n",
       "      <td>POLYGON ((2.33763 48.85904, 2.33652 48.85916, ...</td>\n",
       "    </tr>\n",
       "    <tr>\n",
       "      <th>4</th>\n",
       "      <td>5</td>\n",
       "      <td>75101</td>\n",
       "      <td>4</td>\n",
       "      <td>13084.779369</td>\n",
       "      <td>536.207471</td>\n",
       "      <td>POLYGON ((2.33303 48.85992, 2.33140 48.86026, ...</td>\n",
       "    </tr>\n",
       "  </tbody>\n",
       "</table>\n",
       "</div>"
      ],
      "text/plain": [
       "   objectid  insee  mos2021_11  st_areashape  st_lengthshape   \n",
       "0         1  75101           4   9796.522263      811.974311  \\\n",
       "1         2  75101           4  34857.018040      905.749225   \n",
       "2         3  75101           4  37939.056394     1135.670515   \n",
       "3         4  75101           4  19941.426792      778.363200   \n",
       "4         5  75101           4  13084.779369      536.207471   \n",
       "\n",
       "                                            geometry  \n",
       "0  POLYGON ((2.34301 48.85502, 2.34282 48.85520, ...  \n",
       "1  POLYGON ((2.34653 48.85673, 2.34673 48.85705, ...  \n",
       "2  POLYGON ((2.34169 48.85782, 2.34210 48.85829, ...  \n",
       "3  POLYGON ((2.33763 48.85904, 2.33652 48.85916, ...  \n",
       "4  POLYGON ((2.33303 48.85992, 2.33140 48.86026, ...  "
      ]
     },
     "execution_count": 4,
     "metadata": {},
     "output_type": "execute_result"
    }
   ],
   "source": [
    "mos = geopandas.read_file(filename=r\".\\DONNEES\\mos_2021_idf.geojson\")\n",
    "mos.head()"
   ]
  },
  {
   "cell_type": "code",
   "execution_count": null,
   "metadata": {},
   "outputs": [],
   "source": []
  },
  {
   "cell_type": "code",
   "execution_count": null,
   "metadata": {},
   "outputs": [],
   "source": []
  },
  {
   "cell_type": "code",
   "execution_count": null,
   "metadata": {},
   "outputs": [],
   "source": []
  },
  {
   "cell_type": "code",
   "execution_count": null,
   "metadata": {},
   "outputs": [],
   "source": []
  },
  {
   "cell_type": "code",
   "execution_count": null,
   "metadata": {},
   "outputs": [],
   "source": []
  },
  {
   "cell_type": "code",
   "execution_count": null,
   "metadata": {},
   "outputs": [],
   "source": []
  },
  {
   "cell_type": "code",
   "execution_count": null,
   "metadata": {},
   "outputs": [],
   "source": []
  },
  {
   "cell_type": "code",
   "execution_count": null,
   "metadata": {},
   "outputs": [],
   "source": []
  },
  {
   "cell_type": "code",
   "execution_count": null,
   "metadata": {},
   "outputs": [],
   "source": []
  },
  {
   "cell_type": "code",
   "execution_count": null,
   "metadata": {},
   "outputs": [],
   "source": []
  }
 ],
 "metadata": {
  "kernelspec": {
   "display_name": "analyse_spatiale_py2",
   "language": "python",
   "name": "python3"
  },
  "language_info": {
   "codemirror_mode": {
    "name": "ipython",
    "version": 3
   },
   "file_extension": ".py",
   "mimetype": "text/x-python",
   "name": "python",
   "nbconvert_exporter": "python",
   "pygments_lexer": "ipython3",
   "version": "3.10.11"
  }
 },
 "nbformat": 4,
 "nbformat_minor": 2
}
